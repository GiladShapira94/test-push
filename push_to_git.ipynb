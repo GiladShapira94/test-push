{
 "cells": [
  {
   "cell_type": "code",
   "execution_count": null,
   "id": "70442902",
   "metadata": {},
   "outputs": [],
   "source": [
    "import mlrun"
   ]
  },
  {
   "cell_type": "code",
   "execution_count": null,
   "id": "e4acbcd2",
   "metadata": {},
   "outputs": [],
   "source": [
    "project = mlrun.new_project('git-test','./',user_project=True,init_git=True,overwrite=True)"
   ]
  },
  {
   "cell_type": "code",
   "execution_count": null,
   "id": "7cec1a6c",
   "metadata": {},
   "outputs": [],
   "source": [
    "print(project.to_yaml())"
   ]
  },
  {
   "cell_type": "code",
   "execution_count": null,
   "id": "3d4f7736",
   "metadata": {},
   "outputs": [],
   "source": [
    "%%writefile add_2.py\n",
    "\n",
    "\n",
    "import mlrun\n",
    "@mlrun.handler(outputs=['result'])\n",
    "def add_2(number):\n",
    "    result = 2 + number\n",
    "    return result"
   ]
  },
  {
   "cell_type": "code",
   "execution_count": null,
   "id": "f75f676d",
   "metadata": {},
   "outputs": [],
   "source": [
    "add_2 = project.set_function('add_2.py',name='add_2',kind='job',image='mlrun/mlrun',handler='add_2')"
   ]
  },
  {
   "cell_type": "code",
   "execution_count": null,
   "id": "3ba7c280",
   "metadata": {},
   "outputs": [],
   "source": [
    "add_2.run(params={'number':2})"
   ]
  },
  {
   "cell_type": "code",
   "execution_count": null,
   "id": "32ba0d0f",
   "metadata": {},
   "outputs": [],
   "source": [
    "%%writefile multi_2.py\n",
    "\n",
    "\n",
    "import mlrun\n",
    "@mlrun.handler(outputs=['result'])\n",
    "def multi_2(number):\n",
    "    result = 2 * number\n",
    "    return result"
   ]
  },
  {
   "cell_type": "code",
   "execution_count": null,
   "id": "f5ce6b2c",
   "metadata": {},
   "outputs": [],
   "source": [
    "multi_2 = project.set_function('multi_2.py',name='multi_2',kind='job',image='mlrun/mlrun',handler='multi_2')"
   ]
  },
  {
   "cell_type": "code",
   "execution_count": null,
   "id": "3ff0f68c",
   "metadata": {},
   "outputs": [],
   "source": [
    "multi_2.run(params={'number':2})"
   ]
  },
  {
   "cell_type": "code",
   "execution_count": null,
   "id": "a1a0723e",
   "metadata": {},
   "outputs": [],
   "source": [
    "%%writefile multi_4.py\n",
    "\n",
    "\n",
    "import mlrun\n",
    "@mlrun.handler(outputs=['result'])\n",
    "def multi_4(number):\n",
    "    result = 4 * number\n",
    "    return result"
   ]
  },
  {
   "cell_type": "code",
   "execution_count": null,
   "id": "5ef50890",
   "metadata": {},
   "outputs": [],
   "source": [
    "multi_4 = project.set_function('multi_4.py',name='multi_4',kind='job',image='mlrun/mlrun',handler='multi_4')"
   ]
  },
  {
   "cell_type": "code",
   "execution_count": null,
   "id": "586c3459",
   "metadata": {},
   "outputs": [],
   "source": [
    "multi_4.run(params={'number':2})"
   ]
  },
  {
   "cell_type": "code",
   "execution_count": null,
   "id": "94907c28",
   "metadata": {},
   "outputs": [],
   "source": [
    "# project.create_remote('https://github.com/GiladShapira94/test-push.git',branch='master')"
   ]
  },
  {
   "cell_type": "code",
   "execution_count": null,
   "id": "1ba2d7c0",
   "metadata": {},
   "outputs": [],
   "source": [
    "project.save()"
   ]
  },
  {
   "cell_type": "code",
   "execution_count": null,
   "id": "8d4e23d7",
   "metadata": {},
   "outputs": [],
   "source": [
    "print(project.to_yaml())"
   ]
  },
  {
   "cell_type": "code",
   "execution_count": null,
   "id": "be64d369",
   "metadata": {},
   "outputs": [],
   "source": [
    "from os import listdir\n",
    "from os.path import isfile, join\n",
    "onlyfiles = [f for f in listdir('./') if isfile(join('./', f))]\n",
    "onlyfiles"
   ]
  },
  {
   "cell_type": "code",
   "execution_count": null,
   "id": "5821e6a7",
   "metadata": {},
   "outputs": [],
   "source": [
    "# project.push(branch='master',message='update',add=onlyfiles)"
   ]
  },
  {
   "cell_type": "code",
   "execution_count": null,
   "id": "9686807e",
   "metadata": {},
   "outputs": [],
   "source": [
    "repo = project.spec.repo"
   ]
  },
  {
   "cell_type": "code",
   "execution_count": null,
   "id": "4c90ff53",
   "metadata": {},
   "outputs": [],
   "source": [
    "repo.git.add(A=True)"
   ]
  },
  {
   "cell_type": "code",
   "execution_count": null,
   "id": "e81909fd",
   "metadata": {},
   "outputs": [],
   "source": [
    "repo.git.commit(m='update')"
   ]
  },
  {
   "cell_type": "code",
   "execution_count": null,
   "id": "c4dbd678",
   "metadata": {},
   "outputs": [],
   "source": []
  }
 ],
 "metadata": {
  "kernelspec": {
   "display_name": "Python 3 (ipykernel)",
   "language": "python",
   "name": "python3"
  },
  "language_info": {
   "codemirror_mode": {
    "name": "ipython",
    "version": 3
   },
   "file_extension": ".py",
   "mimetype": "text/x-python",
   "name": "python",
   "nbconvert_exporter": "python",
   "pygments_lexer": "ipython3",
   "version": "3.7.6"
  }
 },
 "nbformat": 4,
 "nbformat_minor": 5
}
